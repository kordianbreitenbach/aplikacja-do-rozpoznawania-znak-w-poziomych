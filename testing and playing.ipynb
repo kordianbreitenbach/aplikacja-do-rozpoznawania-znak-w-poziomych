{
  "nbformat": 4,
  "nbformat_minor": 0,
  "metadata": {
    "colab": {
      "provenance": []
    },
    "kernelspec": {
      "name": "python3",
      "display_name": "Python 3"
    },
    "language_info": {
      "name": "python"
    }
  },
  "cells": [
    {
      "cell_type": "code",
      "execution_count": null,
      "metadata": {
        "id": "GZ4_igwjBxUh"
      },
      "outputs": [],
      "source": [
        "from ultralytics import YOLO\n",
        "from tkinter import Tk, filedialog\n",
        "import matplotlib.pyplot as plt\n",
        "import cv2\n",
        "\n",
        "# Define new class names in Polish\n",
        "new_class_names = [\n",
        "    'Pas dla autobusów', 'Żółte oznaczenie', 'Linia 1', 'Linia 2',\n",
        "    'Przejście dla pieszych', 'Romboid', 'Zwolnij', 'Strzałka w lewo',\n",
        "    'Strzałka do przodu', 'Strzałka do przodu i w lewo',\n",
        "    'Strzałka do przodu i w prawo', 'Strzałka w prawo', 'Rower'\n",
        "]\n",
        "\n",
        "# Load the YOLO model\n",
        "model = YOLO('./model.pt')\n",
        "\n",
        "# Update class names in the model's results\n",
        "model.names = {i: name for i, name in enumerate(new_class_names)}\n",
        "\n",
        "# Function to select an image file\n",
        "def select_image():\n",
        "    Tk().withdraw()  # Close the root window\n",
        "    file_path = filedialog.askopenfilename(\n",
        "        title=\"Select an Image\",\n",
        "        filetypes=[(\"Image Files\", \"*.jpg;*.jpeg;*.png;*.bmp\")]\n",
        "    )\n",
        "    return file_path\n",
        "\n",
        "# Allow the user to select an image\n",
        "print(\"Please select an image...\")\n",
        "image_path = select_image()\n",
        "\n",
        "if image_path:\n",
        "    # Run inference on the selected image\n",
        "    results = model(image_path)\n",
        "\n",
        "    # Display the results\n",
        "    result = results[0]  # Process the first result (YOLO outputs a list of results)\n",
        "    print(\"Detected Classes:\", result.names)\n",
        "    result.show()\n",
        "\n",
        "    # Optional: Save the prediction output\n",
        "    result.save(save_dir='./output')\n",
        "\n",
        "    # Display the image with predictions using OpenCV and Matplotlib\n",
        "    img = cv2.imread(result.path)  # Load the saved result image\n",
        "    img = cv2.cvtColor(img, cv2.COLOR_BGR2RGB)  # Convert to RGB for Matplotlib\n",
        "    plt.imshow(img)\n",
        "    plt.axis('off')\n",
        "    plt.show()\n",
        "else:\n",
        "    print(\"No image selected!\")\n"
      ]
    }
  ]
}